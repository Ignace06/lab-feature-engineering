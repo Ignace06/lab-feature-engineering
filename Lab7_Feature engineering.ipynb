{
 "cells": [
  {
   "cell_type": "markdown",
   "metadata": {
    "id": "7BxdS3wjgulL"
   },
   "source": [
    "# 7.01 Lesson 1 key concepts\n",
    "## Reading the data"
   ]
  },
  {
   "cell_type": "code",
   "execution_count": 1,
   "metadata": {
    "id": "uQDtuTpIgulR"
   },
   "outputs": [],
   "source": [
    "import pandas as pd\n",
    "import numpy as np\n",
    "import matplotlib.pyplot as plt\n",
    "import seaborn as sns \n",
    "pd.set_option('display.max_columns', None)\n"
   ]
  },
  {
   "cell_type": "code",
   "execution_count": 2,
   "metadata": {
    "colab": {
     "base_uri": "https://localhost:8080/"
    },
    "executionInfo": {
     "elapsed": 1969,
     "status": "ok",
     "timestamp": 1648288394160,
     "user": {
      "displayName": "Ignacio Soteras",
      "photoUrl": "https://lh3.googleusercontent.com/a/default-user=s64",
      "userId": "02050793736257155229"
     },
     "user_tz": -60
    },
    "id": "rIPuhjEdknf8",
    "outputId": "4aa80f75-ebb7-4e8c-cab1-f4ece34c30da"
   },
   "outputs": [],
   "source": [
    "# from google.colab import drive\n",
    "# drive.mount('/content/drive')"
   ]
  },
  {
   "cell_type": "code",
   "execution_count": null,
   "metadata": {
    "colab": {
     "base_uri": "https://localhost:8080/"
    },
    "executionInfo": {
     "elapsed": 13037,
     "status": "ok",
     "timestamp": 1648288407186,
     "user": {
      "displayName": "Ignacio Soteras",
      "photoUrl": "https://lh3.googleusercontent.com/a/default-user=s64",
      "userId": "02050793736257155229"
     },
     "user_tz": -60
    },
    "id": "B9-PcfNB5K4d",
    "outputId": "2e720fc9-3927-4dbb-c7cf-40a7e7dcbf65"
   },
   "outputs": [],
   "source": [
    "data = pd.read_csv('C:/Users/igrav/Desktop/ironhack/Lecture/Week_7/Day1/AM/learningSet.csv')"
   ]
  },
  {
   "cell_type": "code",
   "execution_count": null,
   "metadata": {
    "colab": {
     "base_uri": "https://localhost:8080/",
     "height": 287
    },
    "executionInfo": {
     "elapsed": 1039,
     "status": "ok",
     "timestamp": 1648288408214,
     "user": {
      "displayName": "Ignacio Soteras",
      "photoUrl": "https://lh3.googleusercontent.com/a/default-user=s64",
      "userId": "02050793736257155229"
     },
     "user_tz": -60
    },
    "id": "IhIQGVCo45Gf",
    "outputId": "f0be738a-581b-4716-949a-dabe6aa199ba"
   },
   "outputs": [],
   "source": [
    "print(data.shape)\n",
    "data.head()"
   ]
  },
  {
   "cell_type": "markdown",
   "metadata": {
    "id": "tObJFHaESyq3"
   },
   "source": [
    "Column \"TARGET_B\" encodes if the customer answered or not the call"
   ]
  },
  {
   "cell_type": "code",
   "execution_count": null,
   "metadata": {
    "colab": {
     "base_uri": "https://localhost:8080/"
    },
    "executionInfo": {
     "elapsed": 22,
     "status": "ok",
     "timestamp": 1648288408215,
     "user": {
      "displayName": "Ignacio Soteras",
      "photoUrl": "https://lh3.googleusercontent.com/a/default-user=s64",
      "userId": "02050793736257155229"
     },
     "user_tz": -60
    },
    "id": "ch4kkMnKgulS",
    "outputId": "a234974b-86b4-4828-a95d-603cc48e936b"
   },
   "outputs": [],
   "source": [
    "data['TARGET_B'].value_counts()"
   ]
  },
  {
   "cell_type": "markdown",
   "metadata": {
    "id": "hW8z-chkS6sz"
   },
   "source": [
    "Column \"TARGET_D\" provide the donation amount."
   ]
  },
  {
   "cell_type": "code",
   "execution_count": null,
   "metadata": {
    "colab": {
     "base_uri": "https://localhost:8080/"
    },
    "executionInfo": {
     "elapsed": 16,
     "status": "ok",
     "timestamp": 1648288408216,
     "user": {
      "displayName": "Ignacio Soteras",
      "photoUrl": "https://lh3.googleusercontent.com/a/default-user=s64",
      "userId": "02050793736257155229"
     },
     "user_tz": -60
    },
    "id": "Am5x0WrPgulT",
    "outputId": "aa7852f6-92a2-4d1a-c11b-cb7738a25bde"
   },
   "outputs": [],
   "source": [
    "data['TARGET_D'].describe()"
   ]
  },
  {
   "cell_type": "code",
   "execution_count": null,
   "metadata": {
    "colab": {
     "base_uri": "https://localhost:8080/"
    },
    "executionInfo": {
     "elapsed": 13,
     "status": "ok",
     "timestamp": 1648288408217,
     "user": {
      "displayName": "Ignacio Soteras",
      "photoUrl": "https://lh3.googleusercontent.com/a/default-user=s64",
      "userId": "02050793736257155229"
     },
     "user_tz": -60
    },
    "id": "saUyjKlJuRYN",
    "outputId": "ed92f3ea-f106-4c96-cf53-ca8e47ee5b99"
   },
   "outputs": [],
   "source": [
    "data[data['TARGET_B']>0]['TARGET_D'].describe()"
   ]
  },
  {
   "cell_type": "markdown",
   "metadata": {
    "id": "Jb_oNbVf5h70"
   },
   "source": [
    "To solve this problem we will first build a classification model to predict who will more likely respond and then for those respondents, we will build a regression model to predict the donation amount.\n",
    "\n",
    "Then we can use the cost matrix to calculate the total benefit from the donations (remember that the company has to do a mailing champaing and each envelope costs some money).\n",
    "\n",
    "Some of the challenges with the dataset are as follows:\n",
    "\n",
    "* Large number of features: The data set has over 450 features. Hence selecting the right features for the model is very critical and at the same time it is not easy as the same traditional ways of removing features is not effective given the large number of features. Apart from feature selection, feature extraction (creating your own features using the existing features) is also not easy in this case.\n",
    "\n",
    "* Sparsity of the dataset: There are a lot of features with a large number of null values.\n",
    "\n",
    "* Data imbalance: For developing a classification, there is a huge imbalance in the training dataset with only approximately 5000 values for one category as compared to cover 95,000 instances for the other category."
   ]
  },
  {
   "cell_type": "markdown",
   "metadata": {
    "id": "DS1LknszgulT"
   },
   "source": [
    "# 7.01 Lesson 2 key concepts\n",
    "## Review data cleaning process"
   ]
  },
  {
   "cell_type": "markdown",
   "metadata": {
    "id": "5HUMkzE-7b62"
   },
   "source": [
    "There are a lot of columns that have a very high percentage of null values. It is a highly sparse dataset. \n",
    "We can decide on a threshold and then remove those variables. There is no rule of thumb to decide on this threshold value. \n",
    "Sometimes it can as low as 25%-30%. And sometimes in some data sets you might find that even though there are more than 50% missing values in a column, you might have to include that variable in your analysis. \n",
    "A lot of it depends on the business context as well. In this case we will take this threshold to be 25% and then check the definitions of the columns filtered, to see if there is any column that we might want to keep."
   ]
  },
  {
   "cell_type": "code",
   "execution_count": null,
   "metadata": {},
   "outputs": [],
   "source": [
    "len(data)"
   ]
  },
  {
   "cell_type": "code",
   "execution_count": null,
   "metadata": {
    "colab": {
     "base_uri": "https://localhost:8080/",
     "height": 423
    },
    "executionInfo": {
     "elapsed": 1216,
     "status": "ok",
     "timestamp": 1648288409424,
     "user": {
      "displayName": "Ignacio Soteras",
      "photoUrl": "https://lh3.googleusercontent.com/a/default-user=s64",
      "userId": "02050793736257155229"
     },
     "user_tz": -60
    },
    "id": "Cd7wYAqXgulU",
    "outputId": "93295da5-c2a2-49b6-ef08-8293fcd5ad58",
    "scrolled": false
   },
   "outputs": [],
   "source": [
    "nulls_percent_df = pd.DataFrame(data.isna().sum()/len(data)).reset_index()\n",
    "nulls_percent_df.columns = ['column_name', 'nulls_percentage']\n",
    "nulls_percent_df"
   ]
  },
  {
   "cell_type": "markdown",
   "metadata": {
    "id": "VauGIiltUCea"
   },
   "source": [
    "Which columns have NA's?"
   ]
  },
  {
   "cell_type": "code",
   "execution_count": null,
   "metadata": {
    "colab": {
     "base_uri": "https://localhost:8080/",
     "height": 423
    },
    "executionInfo": {
     "elapsed": 26,
     "status": "ok",
     "timestamp": 1648288409425,
     "user": {
      "displayName": "Ignacio Soteras",
      "photoUrl": "https://lh3.googleusercontent.com/a/default-user=s64",
      "userId": "02050793736257155229"
     },
     "user_tz": -60
    },
    "id": "9rvjMejT6U41",
    "outputId": "27988145-70a5-4d52-c945-21e45bf25893"
   },
   "outputs": [],
   "source": [
    "nulls_percent_df[nulls_percent_df['nulls_percentage']!=0]"
   ]
  },
  {
   "cell_type": "code",
   "execution_count": null,
   "metadata": {
    "colab": {
     "base_uri": "https://localhost:8080/"
    },
    "executionInfo": {
     "elapsed": 23,
     "status": "ok",
     "timestamp": 1648288409426,
     "user": {
      "displayName": "Ignacio Soteras",
      "photoUrl": "https://lh3.googleusercontent.com/a/default-user=s64",
      "userId": "02050793736257155229"
     },
     "user_tz": -60
    },
    "id": "H27JCHqIgulU",
    "outputId": "79c7b76e-973d-47e2-b1e7-9af80d4ee51e"
   },
   "outputs": [],
   "source": [
    "columns_above_threshold = nulls_percent_df[nulls_percent_df['nulls_percentage']>0.25]\n",
    "columns_above_threshold['column_name']"
   ]
  },
  {
   "cell_type": "code",
   "execution_count": null,
   "metadata": {
    "colab": {
     "base_uri": "https://localhost:8080/"
    },
    "executionInfo": {
     "elapsed": 16,
     "status": "ok",
     "timestamp": 1648288409427,
     "user": {
      "displayName": "Ignacio Soteras",
      "photoUrl": "https://lh3.googleusercontent.com/a/default-user=s64",
      "userId": "02050793736257155229"
     },
     "user_tz": -60
    },
    "id": "BnYtuY7CgulV",
    "outputId": "1172ab76-c038-44e4-d5cc-318534486c21"
   },
   "outputs": [],
   "source": [
    "drop_columns_list = list(columns_above_threshold['column_name'])\n",
    "print(drop_columns_list)"
   ]
  },
  {
   "cell_type": "markdown",
   "metadata": {
    "id": "qy3vrGB3gulV"
   },
   "source": [
    "From the list above that includes the columns that have over 25% null values, you discussed with your manager you were told that the following columns are important -> **wealth1, wealth2**\n",
    "We will remove these variables from the above list \n",
    "RDATE3, RAMNT_3 are important but they have too many null values "
   ]
  },
  {
   "cell_type": "markdown",
   "metadata": {
    "id": "z4SmdgRzgulV"
   },
   "source": [
    "# 7.01 Activity 2\n",
    "\n",
    "Create a function that takes a dataframe as an input and a percentual threshold (default value = 0.25) and returns a list of columns with null values greater than the specified threshold"
   ]
  },
  {
   "cell_type": "code",
   "execution_count": null,
   "metadata": {
    "id": "Yv-nx-W8gulW"
   },
   "outputs": [],
   "source": [
    "# Your code here"
   ]
  },
  {
   "cell_type": "code",
   "execution_count": null,
   "metadata": {},
   "outputs": [],
   "source": [
    "def threshold(df, threshold ):\n",
    "    nulls_percent_df = pd.DataFrame(data.isna().sum()/len(data)).reset_index()\n",
    "    nulls_percent_df.columns = ['column_name', 'nulls_percentage']\n",
    "    columns_above_threshold = nulls_percent_df[nulls_percent_df['nulls_percentage']>threshold]\n",
    "    return list(columns_above_threshold['column_name'])\n",
    "            "
   ]
  },
  {
   "cell_type": "code",
   "execution_count": null,
   "metadata": {
    "id": "7CFRhSasgulW"
   },
   "outputs": [],
   "source": [
    "# Test your function here\n",
    "threshold(data, 0.25)"
   ]
  },
  {
   "cell_type": "markdown",
   "metadata": {
    "id": "i8M_c2RcgulW"
   },
   "source": [
    "## More data cleaning"
   ]
  },
  {
   "cell_type": "code",
   "execution_count": null,
   "metadata": {
    "colab": {
     "base_uri": "https://localhost:8080/",
     "height": 270
    },
    "executionInfo": {
     "elapsed": 794,
     "status": "ok",
     "timestamp": 1648288410862,
     "user": {
      "displayName": "Ignacio Soteras",
      "photoUrl": "https://lh3.googleusercontent.com/a/default-user=s64",
      "userId": "02050793736257155229"
     },
     "user_tz": -60
    },
    "id": "k8LfcsVQgulW",
    "outputId": "89afe727-1ad7-41e6-de4f-3eb12e3ab198"
   },
   "outputs": [],
   "source": [
    "data.head()"
   ]
  },
  {
   "cell_type": "markdown",
   "metadata": {
    "id": "J16HXxbUgulX"
   },
   "source": [
    "We can see that there are a lot of columns that have blank spaces which represent no value in this case. \n",
    "They were not identified as null values by python as they are empty spaces that are read as character values by \n",
    "python. We will replace those values by NaNs and repeat the analysis \n",
    "\n",
    "Before we do that we will replace the blank values from the column \"MAILCODE\" by \"A\" which would mean the address is okay (pl check the definition of the variable in the description)"
   ]
  },
  {
   "cell_type": "code",
   "execution_count": null,
   "metadata": {
    "colab": {
     "base_uri": "https://localhost:8080/"
    },
    "executionInfo": {
     "elapsed": 8,
     "status": "ok",
     "timestamp": 1648288410863,
     "user": {
      "displayName": "Ignacio Soteras",
      "photoUrl": "https://lh3.googleusercontent.com/a/default-user=s64",
      "userId": "02050793736257155229"
     },
     "user_tz": -60
    },
    "id": "2ma4YVP7gulX",
    "outputId": "76b98a6a-db11-41e4-b840-2ecc26f8d24a"
   },
   "outputs": [],
   "source": [
    "data['MAILCODE'].value_counts()"
   ]
  },
  {
   "cell_type": "code",
   "execution_count": null,
   "metadata": {
    "id": "Il6fU7EVgulX"
   },
   "outputs": [],
   "source": [
    "data['MAILCODE'] = data['MAILCODE'].apply(lambda x: x.replace(\" \", \"A\"))"
   ]
  },
  {
   "cell_type": "code",
   "execution_count": null,
   "metadata": {
    "id": "1XrbY5EqgulX"
   },
   "outputs": [],
   "source": [
    "# Now we can replace the rest space characters with np.NaN"
   ]
  },
  {
   "cell_type": "code",
   "execution_count": null,
   "metadata": {
    "id": "TLGZ_CWBgulY"
   },
   "outputs": [],
   "source": [
    "data = data.apply(lambda x: x.replace(\" \", np.NaN))"
   ]
  },
  {
   "cell_type": "code",
   "execution_count": null,
   "metadata": {
    "colab": {
     "base_uri": "https://localhost:8080/",
     "height": 270
    },
    "executionInfo": {
     "elapsed": 526,
     "status": "ok",
     "timestamp": 1648288413001,
     "user": {
      "displayName": "Ignacio Soteras",
      "photoUrl": "https://lh3.googleusercontent.com/a/default-user=s64",
      "userId": "02050793736257155229"
     },
     "user_tz": -60
    },
    "id": "SJL4ENIggulY",
    "outputId": "3ae8a3e1-f050-4a17-eef6-66146afc104d"
   },
   "outputs": [],
   "source": [
    "data.head()"
   ]
  },
  {
   "cell_type": "markdown",
   "metadata": {
    "id": "sNFGy97PgulY"
   },
   "source": [
    "# 7.01 Activity 3\n",
    "\n",
    "Use the previous function to obtain the columns with null values greater than 0.25 and store those columns in a list called \"drop_columns_list\""
   ]
  },
  {
   "cell_type": "code",
   "execution_count": null,
   "metadata": {
    "id": "6mroUsC0gulY"
   },
   "outputs": [],
   "source": [
    "# Your code here \n",
    "drop_columns_list = threshold(data, 0.25)\n",
    "drop_columns_list"
   ]
  },
  {
   "cell_type": "markdown",
   "metadata": {
    "id": "b93Maz-dgulZ"
   },
   "source": [
    "We would again repeat the same exercise as the last time. We will discuss it with the team, manager, and/or other stakeholders to see which columns we need to retain here. \n",
    "\n",
    "Like last time we will keep the following -> **wealth1, wealth2 along with these VETERANS, SOLIH**\n",
    "\n",
    "Remove those column's names from the list of columns to drop."
   ]
  },
  {
   "cell_type": "code",
   "execution_count": null,
   "metadata": {
    "id": "yxlxEDIOgulZ"
   },
   "outputs": [],
   "source": [
    "# Your code here. Try to use list comprehension\n",
    "# list comprehension\n",
    "my_list = []\n",
    "for number in range(1,11):\n",
    "    my_list.append(number)\n",
    "my_list\n",
    "\n",
    "# List comprehension syntax\n",
    "# [value for item in list]\n",
    "my_list = [ number for number in range(1,11) ]\n",
    "my_list\n",
    "my_list = []\n",
    "for number in range(1,11):\n",
    "    if ( number%2 == 0 ):\n",
    "        my_list.append(number)\n",
    "my_list\n",
    "\n",
    "# List comprehension syntax with a conditional\n",
    "# [value for item in list if (condition)]\n",
    "my_list = [ number for number in range(1,11) if (number%2 == 0)]\n",
    "my_list\n",
    "my_list = []\n",
    "for number in range(1,11):\n",
    "    if ( number%2 == 0 ):\n",
    "        my_list.append(number)\n",
    "    else:\n",
    "        my_list.append(0)\n",
    "my_list\n",
    "\n",
    "# List comprehension syntax with a conditional with an else\n",
    "# [value if (condition) else other_value for item in list]\n",
    "my_list = [ number if (number%2 == 0) else 0 for number in range(1,11) ]\n",
    "my_list"
   ]
  },
  {
   "cell_type": "markdown",
   "metadata": {
    "id": "bgXoo7VHgula"
   },
   "source": [
    "# 7.01 Lesson 4 key concepts\n",
    "## Separating Target, Numerical Features, and Categorical Features"
   ]
  },
  {
   "cell_type": "markdown",
   "metadata": {
    "id": "bHi0yh0V8yY_"
   },
   "source": [
    "Since we have a huge number of features, it would be easier to work independently on numerical features and categorical features.\n",
    "\n",
    "For the target variables, for now we will retain them both together. But later, we will build a classification model first where we would need the column TARGET_B only."
   ]
  },
  {
   "cell_type": "code",
   "execution_count": null,
   "metadata": {
    "colab": {
     "base_uri": "https://localhost:8080/",
     "height": 206
    },
    "executionInfo": {
     "elapsed": 18,
     "status": "ok",
     "timestamp": 1648288413837,
     "user": {
      "displayName": "Ignacio Soteras",
      "photoUrl": "https://lh3.googleusercontent.com/a/default-user=s64",
      "userId": "02050793736257155229"
     },
     "user_tz": -60
    },
    "id": "3zRiRPxIgula",
    "outputId": "a77cbdf0-a94d-44f8-a280-c8404085b10b"
   },
   "outputs": [],
   "source": [
    "Y = data[['TARGET_B', 'TARGET_D']]\n",
    "Y.head()"
   ]
  },
  {
   "cell_type": "code",
   "execution_count": null,
   "metadata": {
    "colab": {
     "base_uri": "https://localhost:8080/",
     "height": 270
    },
    "executionInfo": {
     "elapsed": 948,
     "status": "ok",
     "timestamp": 1648288414769,
     "user": {
      "displayName": "Ignacio Soteras",
      "photoUrl": "https://lh3.googleusercontent.com/a/default-user=s64",
      "userId": "02050793736257155229"
     },
     "user_tz": -60
    },
    "id": "Jw6Wk3Z-gula",
    "outputId": "80d48452-accf-4e67-d751-c1ff7f95da59"
   },
   "outputs": [],
   "source": [
    "numerical = data.select_dtypes(np.number)\n",
    "numerical = numerical.drop(columns = ['TARGET_B', 'TARGET_D'])\n",
    "numerical.head()"
   ]
  },
  {
   "cell_type": "code",
   "execution_count": null,
   "metadata": {
    "colab": {
     "base_uri": "https://localhost:8080/"
    },
    "executionInfo": {
     "elapsed": 20,
     "status": "ok",
     "timestamp": 1648288414770,
     "user": {
      "displayName": "Ignacio Soteras",
      "photoUrl": "https://lh3.googleusercontent.com/a/default-user=s64",
      "userId": "02050793736257155229"
     },
     "user_tz": -60
    },
    "id": "24AAOgbyuRYg",
    "outputId": "39708dc3-3fc2-4756-ef9a-971599194c14"
   },
   "outputs": [],
   "source": [
    "numerical.shape"
   ]
  },
  {
   "cell_type": "code",
   "execution_count": null,
   "metadata": {
    "colab": {
     "base_uri": "https://localhost:8080/",
     "height": 270
    },
    "executionInfo": {
     "elapsed": 15,
     "status": "ok",
     "timestamp": 1648288414771,
     "user": {
      "displayName": "Ignacio Soteras",
      "photoUrl": "https://lh3.googleusercontent.com/a/default-user=s64",
      "userId": "02050793736257155229"
     },
     "user_tz": -60
    },
    "id": "M3aMTkVEgulb",
    "outputId": "b04a7950-f43c-4d03-96c1-cd5628c1eb10"
   },
   "outputs": [],
   "source": [
    "categorical = data.select_dtypes([object])\n",
    "categorical.head()"
   ]
  },
  {
   "cell_type": "code",
   "execution_count": null,
   "metadata": {
    "colab": {
     "base_uri": "https://localhost:8080/"
    },
    "executionInfo": {
     "elapsed": 14,
     "status": "ok",
     "timestamp": 1648288414772,
     "user": {
      "displayName": "Ignacio Soteras",
      "photoUrl": "https://lh3.googleusercontent.com/a/default-user=s64",
      "userId": "02050793736257155229"
     },
     "user_tz": -60
    },
    "id": "cOWVZQv6uRYh",
    "outputId": "777b7d39-5673-4035-ece7-b670192470c9"
   },
   "outputs": [],
   "source": [
    "categorical.shape"
   ]
  },
  {
   "cell_type": "markdown",
   "metadata": {
    "id": "EqJRlqGJgulb"
   },
   "source": [
    "## Working with categorical columns"
   ]
  },
  {
   "cell_type": "markdown",
   "metadata": {
    "id": "DCKecBEr9FA0"
   },
   "source": [
    "We will work with the categorical features first. Look at the columns one by one. Some of the operations which we will perform are:\n",
    "\n",
    "- Replace null values with the most occurring categories\n",
    "- Reduce the number of categories in a column by grouping\n",
    "\n",
    "It is important to note that some columns are defined by python as categorical/object types. There might be other columns defined as numerical that we want as categorical. We will look them later when we were working on numerical types."
   ]
  },
  {
   "cell_type": "code",
   "execution_count": null,
   "metadata": {
    "colab": {
     "base_uri": "https://localhost:8080/"
    },
    "executionInfo": {
     "elapsed": 859,
     "status": "ok",
     "timestamp": 1648288415622,
     "user": {
      "displayName": "Ignacio Soteras",
      "photoUrl": "https://lh3.googleusercontent.com/a/default-user=s64",
      "userId": "02050793736257155229"
     },
     "user_tz": -60
    },
    "id": "sKt7l7_igulb",
    "outputId": "536673b3-0698-4f3f-937b-9070d838d85f"
   },
   "outputs": [],
   "source": [
    "categorical.isna().sum()"
   ]
  },
  {
   "cell_type": "markdown",
   "metadata": {
    "id": "aXU1mWm_gulb"
   },
   "source": [
    "## Categorical Variables"
   ]
  },
  {
   "cell_type": "markdown",
   "metadata": {
    "id": "JoX043m3gulc"
   },
   "source": [
    "Here we will try to reduce the number of categories. An ideal way would have been to group the states into \n",
    "regions. But in this case we will group all the states with counts less than 2500 into one category \"other\""
   ]
  },
  {
   "cell_type": "code",
   "execution_count": null,
   "metadata": {
    "colab": {
     "base_uri": "https://localhost:8080/"
    },
    "executionInfo": {
     "elapsed": 401,
     "status": "ok",
     "timestamp": 1648288416019,
     "user": {
      "displayName": "Ignacio Soteras",
      "photoUrl": "https://lh3.googleusercontent.com/a/default-user=s64",
      "userId": "02050793736257155229"
     },
     "user_tz": -60
    },
    "id": "1JFCqWUZgulc",
    "outputId": "9dd71b58-aded-42b7-8d16-450418875a0d"
   },
   "outputs": [],
   "source": [
    "df = pd.DataFrame(categorical['STATE'].value_counts()).reset_index()\n",
    "\n",
    "df.columns = ['state', 'count']\n",
    "other_states = list(df[df['count']<2500]['state'])\n",
    "\n",
    "def clean_state(x):\n",
    "    if x in other_states:\n",
    "        return 'other'\n",
    "    else:\n",
    "        return x\n",
    "    \n",
    "categorical['STATE'] = list(map(clean_state, categorical['STATE']))"
   ]
  },
  {
   "cell_type": "code",
   "execution_count": null,
   "metadata": {
    "colab": {
     "base_uri": "https://localhost:8080/"
    },
    "executionInfo": {
     "elapsed": 22,
     "status": "ok",
     "timestamp": 1648288416020,
     "user": {
      "displayName": "Ignacio Soteras",
      "photoUrl": "https://lh3.googleusercontent.com/a/default-user=s64",
      "userId": "02050793736257155229"
     },
     "user_tz": -60
    },
    "id": "1pnj5v2_9a35",
    "outputId": "717b7d89-6442-4974-b8d5-ec84caae79dd"
   },
   "outputs": [],
   "source": [
    "categorical['STATE'].value_counts()"
   ]
  },
  {
   "cell_type": "markdown",
   "metadata": {
    "id": "7XOWfN37gulc"
   },
   "source": [
    "# 7.01 Lab | Revisiting Machine Learning Case Study"
   ]
  },
  {
   "cell_type": "markdown",
   "metadata": {
    "id": "ZBhQqw70JWc5"
   },
   "source": [
    "Lab instructions can be found [here](https://github.com/ironhack-labs/lab-revisiting-machine-learning)"
   ]
  },
  {
   "cell_type": "markdown",
   "metadata": {
    "id": "ipaAeWcjgule"
   },
   "source": [
    "# 7.02"
   ]
  },
  {
   "cell_type": "markdown",
   "metadata": {
    "id": "joA_cUkK-aCI"
   },
   "source": [
    "We will work on the column DOMAIN. Let's replace the null values with the category that is represented the most and then we will split the data into two columns DOMAIN_A and DOMAIN_B.\n",
    "\n",
    "- DOMAIN_A will consist of the first character from the DOMAIN\n",
    "- DOMAIN_B will consist of the second character from the DOMAIN\n",
    "\n",
    "Then we will drop the original column DOMAIN"
   ]
  },
  {
   "cell_type": "code",
   "execution_count": null,
   "metadata": {
    "colab": {
     "base_uri": "https://localhost:8080/"
    },
    "executionInfo": {
     "elapsed": 18,
     "status": "ok",
     "timestamp": 1648288416021,
     "user": {
      "displayName": "Ignacio Soteras",
      "photoUrl": "https://lh3.googleusercontent.com/a/default-user=s64",
      "userId": "02050793736257155229"
     },
     "user_tz": -60
    },
    "id": "OOLr8fnd-T4I",
    "outputId": "8cf842c4-7539-4a95-94bf-b3e8d308840c"
   },
   "outputs": [],
   "source": [
    "categorical['DOMAIN'].value_counts(dropna=False)"
   ]
  },
  {
   "cell_type": "code",
   "execution_count": null,
   "metadata": {
    "colab": {
     "base_uri": "https://localhost:8080/",
     "height": 35
    },
    "executionInfo": {
     "elapsed": 15,
     "status": "ok",
     "timestamp": 1648288416022,
     "user": {
      "displayName": "Ignacio Soteras",
      "photoUrl": "https://lh3.googleusercontent.com/a/default-user=s64",
      "userId": "02050793736257155229"
     },
     "user_tz": -60
    },
    "id": "ceCpI7rhZrbW",
    "outputId": "6ee5b314-e04d-4376-df1e-be80a3535b58"
   },
   "outputs": [],
   "source": [
    "m = categorical[categorical['DOMAIN'].notna()]['DOMAIN'].mode()[0]\n",
    "m"
   ]
  },
  {
   "cell_type": "code",
   "execution_count": null,
   "metadata": {
    "colab": {
     "base_uri": "https://localhost:8080/"
    },
    "executionInfo": {
     "elapsed": 15,
     "status": "ok",
     "timestamp": 1648288416023,
     "user": {
      "displayName": "Ignacio Soteras",
      "photoUrl": "https://lh3.googleusercontent.com/a/default-user=s64",
      "userId": "02050793736257155229"
     },
     "user_tz": -60
    },
    "id": "auI-d8ZI-jtV",
    "outputId": "8831010b-76c8-4e04-8540-2e8b69522faa"
   },
   "outputs": [],
   "source": [
    "categorical['DOMAIN'] = categorical['DOMAIN'].fillna(m)"
   ]
  },
  {
   "cell_type": "markdown",
   "metadata": {
    "id": "xcGplvXxZ5EU"
   },
   "source": [
    "Now let's create the new columns 'DOMAIN_A' and 'DOMAIN_B' with the first and second letter of column \"DOMAIN\" respectivelly"
   ]
  },
  {
   "cell_type": "code",
   "execution_count": null,
   "metadata": {
    "colab": {
     "base_uri": "https://localhost:8080/"
    },
    "executionInfo": {
     "elapsed": 263,
     "status": "ok",
     "timestamp": 1648288416277,
     "user": {
      "displayName": "Ignacio Soteras",
      "photoUrl": "https://lh3.googleusercontent.com/a/default-user=s64",
      "userId": "02050793736257155229"
     },
     "user_tz": -60
    },
    "id": "r-AX-0Fy-5F2",
    "outputId": "9998bf7d-8e5b-40ca-a412-c470e05789bb"
   },
   "outputs": [],
   "source": [
    "categorical['DOMAIN_A'] = list(map(lambda x: x[0], categorical['DOMAIN']))\n",
    "categorical['DOMAIN_B'] = list(map(lambda x: x[1], categorical['DOMAIN']))"
   ]
  },
  {
   "cell_type": "markdown",
   "metadata": {
    "id": "F5RmFzJfaOhI"
   },
   "source": [
    "Now we drop the original column"
   ]
  },
  {
   "cell_type": "code",
   "execution_count": null,
   "metadata": {
    "id": "ejjxExwR_AWp"
   },
   "outputs": [],
   "source": [
    "categorical = categorical.drop(columns=['DOMAIN'])"
   ]
  },
  {
   "cell_type": "code",
   "execution_count": null,
   "metadata": {
    "colab": {
     "base_uri": "https://localhost:8080/",
     "height": 270
    },
    "executionInfo": {
     "elapsed": 13,
     "status": "ok",
     "timestamp": 1648288416517,
     "user": {
      "displayName": "Ignacio Soteras",
      "photoUrl": "https://lh3.googleusercontent.com/a/default-user=s64",
      "userId": "02050793736257155229"
     },
     "user_tz": -60
    },
    "id": "GLyUipyZ_CwU",
    "outputId": "d6087193-1828-4e5b-e663-32d58a20355c"
   },
   "outputs": [],
   "source": [
    "categorical.head()"
   ]
  },
  {
   "cell_type": "markdown",
   "metadata": {
    "id": "LlsQT1bO_G8e"
   },
   "source": [
    "### Activity 2.1"
   ]
  },
  {
   "cell_type": "markdown",
   "metadata": {
    "id": "OPilAMtpa8mr"
   },
   "source": [
    "Check the instructions [here](https://github.com/ironhack-edu/data_7.01_activities/blob/master/7.01_activity_2.md)"
   ]
  },
  {
   "cell_type": "code",
   "execution_count": null,
   "metadata": {
    "id": "szRb71rwC8LR"
   },
   "outputs": [],
   "source": [
    "# Your code here"
   ]
  },
  {
   "cell_type": "code",
   "execution_count": null,
   "metadata": {},
   "outputs": [],
   "source": [
    "drop_columns_list"
   ]
  },
  {
   "cell_type": "code",
   "execution_count": null,
   "metadata": {},
   "outputs": [],
   "source": [
    "\n"
   ]
  },
  {
   "cell_type": "code",
   "execution_count": null,
   "metadata": {
    "id": "yyZ9zO8Cgulg"
   },
   "outputs": [],
   "source": [
    "#End Activity"
   ]
  },
  {
   "cell_type": "markdown",
   "metadata": {
    "id": "1XEBuX6z_fGU"
   },
   "source": [
    "MDMAUD_XXX are also like MDMAUD\n",
    "\n"
   ]
  },
  {
   "cell_type": "code",
   "execution_count": null,
   "metadata": {
    "colab": {
     "base_uri": "https://localhost:8080/"
    },
    "executionInfo": {
     "elapsed": 271,
     "status": "ok",
     "timestamp": 1648288416778,
     "user": {
      "displayName": "Ignacio Soteras",
      "photoUrl": "https://lh3.googleusercontent.com/a/default-user=s64",
      "userId": "02050793736257155229"
     },
     "user_tz": -60
    },
    "id": "oYR1WQGrgulg",
    "outputId": "e4a51891-c4d3-41c3-b9ef-108996c2913f"
   },
   "outputs": [],
   "source": [
    "categorical['MDMAUD_R'].value_counts()"
   ]
  },
  {
   "cell_type": "code",
   "execution_count": null,
   "metadata": {
    "id": "QfV5vXPe__OQ"
   },
   "outputs": [],
   "source": [
    "drop_columns_list += ['MDMAUD_R', 'MDMAUD_F','MDMAUD_A']"
   ]
  },
  {
   "cell_type": "markdown",
   "metadata": {
    "id": "5E2oG4yiAAZg"
   },
   "source": [
    "Replacing NULL values"
   ]
  },
  {
   "cell_type": "code",
   "execution_count": null,
   "metadata": {
    "colab": {
     "base_uri": "https://localhost:8080/"
    },
    "executionInfo": {
     "elapsed": 10,
     "status": "ok",
     "timestamp": 1648288416780,
     "user": {
      "displayName": "Ignacio Soteras",
      "photoUrl": "https://lh3.googleusercontent.com/a/default-user=s64",
      "userId": "02050793736257155229"
     },
     "user_tz": -60
    },
    "id": "XAvVonMEAKkq",
    "outputId": "7b54e0a3-bbae-4689-c008-45d465160346"
   },
   "outputs": [],
   "source": [
    "categorical['CLUSTER'].value_counts(dropna=False)"
   ]
  },
  {
   "cell_type": "code",
   "execution_count": null,
   "metadata": {
    "colab": {
     "base_uri": "https://localhost:8080/",
     "height": 35
    },
    "executionInfo": {
     "elapsed": 333,
     "status": "ok",
     "timestamp": 1648288417108,
     "user": {
      "displayName": "Ignacio Soteras",
      "photoUrl": "https://lh3.googleusercontent.com/a/default-user=s64",
      "userId": "02050793736257155229"
     },
     "user_tz": -60
    },
    "id": "aITfG_SibjoF",
    "outputId": "8a21aff2-ac85-4aff-f7b9-a65c126678f3"
   },
   "outputs": [],
   "source": []
  },
  {
   "cell_type": "code",
   "execution_count": null,
   "metadata": {
    "id": "nz2co7njgulg"
   },
   "outputs": [],
   "source": []
  },
  {
   "cell_type": "code",
   "execution_count": null,
   "metadata": {
    "colab": {
     "base_uri": "https://localhost:8080/"
    },
    "executionInfo": {
     "elapsed": 19,
     "status": "ok",
     "timestamp": 1648288417109,
     "user": {
      "displayName": "Ignacio Soteras",
      "photoUrl": "https://lh3.googleusercontent.com/a/default-user=s64",
      "userId": "02050793736257155229"
     },
     "user_tz": -60
    },
    "id": "v07Wmcebgulg",
    "outputId": "18fecefe-31a6-4747-a994-a0836c5ec9ef"
   },
   "outputs": [],
   "source": []
  },
  {
   "cell_type": "code",
   "execution_count": null,
   "metadata": {
    "id": "ODypqr_mbrfF"
   },
   "outputs": [],
   "source": [
    "m = categorical[categorical['HOMEOWNR'].notna()]['HOMEOWNR'].mode()[0]"
   ]
  },
  {
   "cell_type": "code",
   "execution_count": null,
   "metadata": {
    "id": "kPIro4y5AXC4"
   },
   "outputs": [],
   "source": [
    "categorical['HOMEOWNR'] = categorical['HOMEOWNR'].fillna(m)"
   ]
  },
  {
   "cell_type": "code",
   "execution_count": null,
   "metadata": {
    "colab": {
     "base_uri": "https://localhost:8080/"
    },
    "executionInfo": {
     "elapsed": 17,
     "status": "ok",
     "timestamp": 1648288417112,
     "user": {
      "displayName": "Ignacio Soteras",
      "photoUrl": "https://lh3.googleusercontent.com/a/default-user=s64",
      "userId": "02050793736257155229"
     },
     "user_tz": -60
    },
    "id": "1aT6EDPWgulh",
    "outputId": "bd021f17-981b-4d95-bd11-98ad9b949287"
   },
   "outputs": [],
   "source": [
    "categorical['GENDER'].value_counts(dropna=False)"
   ]
  },
  {
   "cell_type": "code",
   "execution_count": null,
   "metadata": {
    "id": "ogITkUWMeFrc"
   },
   "outputs": [],
   "source": [
    "ml =list(categorical[(categorical['GENDER'].isin(['F','M']) == False) & (categorical['GENDER'].notna())]['GENDER'].index)\n",
    "categorical.iloc[ml,list(categorical.columns).index(\"GENDER\")] = \"other\""
   ]
  },
  {
   "cell_type": "code",
   "execution_count": null,
   "metadata": {
    "colab": {
     "base_uri": "https://localhost:8080/"
    },
    "executionInfo": {
     "elapsed": 14,
     "status": "ok",
     "timestamp": 1648288417113,
     "user": {
      "displayName": "Ignacio Soteras",
      "photoUrl": "https://lh3.googleusercontent.com/a/default-user=s64",
      "userId": "02050793736257155229"
     },
     "user_tz": -60
    },
    "id": "cm2e7AgmDswX",
    "outputId": "29da7da2-78f2-4041-f7fc-315a397100f3"
   },
   "outputs": [],
   "source": [
    "categorical['GENDER'].value_counts(dropna=False)"
   ]
  },
  {
   "cell_type": "markdown",
   "metadata": {
    "id": "eudLj-gjYj5j"
   },
   "source": [
    "Let's drop the rows with NA's in gender."
   ]
  },
  {
   "cell_type": "code",
   "execution_count": null,
   "metadata": {
    "id": "Z2fL7dN8YssO"
   },
   "outputs": [],
   "source": [
    "ml = list(categorical[categorical['GENDER'].notna()].index)\n",
    "categorical = categorical.loc[ml,:]\n",
    "numerical = numerical.loc[ml,:]"
   ]
  },
  {
   "cell_type": "markdown",
   "metadata": {
    "id": "ZDUIQqA7cfTy"
   },
   "source": [
    "Dealing with redundant information"
   ]
  },
  {
   "cell_type": "code",
   "execution_count": null,
   "metadata": {
    "colab": {
     "base_uri": "https://localhost:8080/"
    },
    "executionInfo": {
     "elapsed": 25,
     "status": "ok",
     "timestamp": 1648288417722,
     "user": {
      "displayName": "Ignacio Soteras",
      "photoUrl": "https://lh3.googleusercontent.com/a/default-user=s64",
      "userId": "02050793736257155229"
     },
     "user_tz": -60
    },
    "id": "ICkCQVFZgulh",
    "outputId": "0bac1f9d-95bb-42a6-dc4a-dec492cde05b"
   },
   "outputs": [],
   "source": [
    "categorical['RFA_2'].value_counts()"
   ]
  },
  {
   "cell_type": "markdown",
   "metadata": {
    "id": "5Y_k8yMsfVYR"
   },
   "source": [
    "We will remove all the columns \"RFA_2X\" except ['RFA_2R','RFA_2A']"
   ]
  },
  {
   "cell_type": "code",
   "execution_count": null,
   "metadata": {
    "id": "vRcLsxnUecJj"
   },
   "outputs": [],
   "source": [
    "drop_columns_list += [col for col in categorical.columns if ((\"RFA\" in col) and ( col not in ['RFA_2R','RFA_2A']))]"
   ]
  },
  {
   "cell_type": "code",
   "execution_count": null,
   "metadata": {
    "colab": {
     "base_uri": "https://localhost:8080/"
    },
    "executionInfo": {
     "elapsed": 25,
     "status": "ok",
     "timestamp": 1648288417724,
     "user": {
      "displayName": "Ignacio Soteras",
      "photoUrl": "https://lh3.googleusercontent.com/a/default-user=s64",
      "userId": "02050793736257155229"
     },
     "user_tz": -60
    },
    "id": "p9GpZ4A7guli",
    "outputId": "40d2bd37-7037-4d5c-94b7-bb0a84146c4d"
   },
   "outputs": [],
   "source": [
    "drop_columns_list"
   ]
  },
  {
   "cell_type": "code",
   "execution_count": null,
   "metadata": {
    "colab": {
     "base_uri": "https://localhost:8080/"
    },
    "executionInfo": {
     "elapsed": 22,
     "status": "ok",
     "timestamp": 1648288417725,
     "user": {
      "displayName": "Ignacio Soteras",
      "photoUrl": "https://lh3.googleusercontent.com/a/default-user=s64",
      "userId": "02050793736257155229"
     },
     "user_tz": -60
    },
    "id": "Xf51wGJ8qrlN",
    "outputId": "ca01fef8-03f3-42f4-f1a8-2afa82eb753d"
   },
   "outputs": [],
   "source": [
    "list(categorical.columns)"
   ]
  },
  {
   "cell_type": "code",
   "execution_count": null,
   "metadata": {
    "colab": {
     "base_uri": "https://localhost:8080/"
    },
    "executionInfo": {
     "elapsed": 18,
     "status": "ok",
     "timestamp": 1648288417726,
     "user": {
      "displayName": "Ignacio Soteras",
      "photoUrl": "https://lh3.googleusercontent.com/a/default-user=s64",
      "userId": "02050793736257155229"
     },
     "user_tz": -60
    },
    "id": "sMAj3Yu-q0L8",
    "outputId": "73040c36-b82f-40a5-e9b5-3164266991ae"
   },
   "outputs": [],
   "source": [
    "cat_columns_to_drop = [col for col in drop_columns_list if col in list(categorical.columns)]\n",
    "cat_columns_to_drop"
   ]
  },
  {
   "cell_type": "code",
   "execution_count": null,
   "metadata": {
    "colab": {
     "base_uri": "https://localhost:8080/",
     "height": 270
    },
    "executionInfo": {
     "elapsed": 13,
     "status": "ok",
     "timestamp": 1648288417726,
     "user": {
      "displayName": "Ignacio Soteras",
      "photoUrl": "https://lh3.googleusercontent.com/a/default-user=s64",
      "userId": "02050793736257155229"
     },
     "user_tz": -60
    },
    "id": "yud6-l57guli",
    "outputId": "4df718c0-a498-4cb2-c9e4-c66a08df77f9"
   },
   "outputs": [],
   "source": [
    "categorical = categorical.drop(columns=cat_columns_to_drop, axis=1)\n",
    "categorical.head()"
   ]
  },
  {
   "cell_type": "code",
   "execution_count": null,
   "metadata": {
    "colab": {
     "base_uri": "https://localhost:8080/"
    },
    "executionInfo": {
     "elapsed": 324,
     "status": "ok",
     "timestamp": 1648288418038,
     "user": {
      "displayName": "Ignacio Soteras",
      "photoUrl": "https://lh3.googleusercontent.com/a/default-user=s64",
      "userId": "02050793736257155229"
     },
     "user_tz": -60
    },
    "id": "hpvZ99o7guli",
    "outputId": "bfa95765-36f2-40c6-cc5d-0c09f399329b"
   },
   "outputs": [],
   "source": [
    "categorical.isna().sum()"
   ]
  },
  {
   "cell_type": "code",
   "execution_count": null,
   "metadata": {
    "colab": {
     "base_uri": "https://localhost:8080/"
    },
    "executionInfo": {
     "elapsed": 11,
     "status": "ok",
     "timestamp": 1648288418332,
     "user": {
      "displayName": "Ignacio Soteras",
      "photoUrl": "https://lh3.googleusercontent.com/a/default-user=s64",
      "userId": "02050793736257155229"
     },
     "user_tz": -60
    },
    "id": "18wy17Atguli",
    "outputId": "d9dc294c-4fab-4cc9-a9fa-e38eb4aebf41"
   },
   "outputs": [],
   "source": [
    "categorical.isna().sum()/len(categorical)"
   ]
  },
  {
   "cell_type": "code",
   "execution_count": null,
   "metadata": {
    "id": "vw_4VG9Kgulj"
   },
   "outputs": [],
   "source": [
    "[drop_columns_list.remove(col) for col in [\"RDATE_3\", \"RAMNT_3\"]]\n",
    "len(drop_columns_list)\n",
    "drop_columns_list"
   ]
  },
  {
   "cell_type": "code",
   "execution_count": null,
   "metadata": {
    "colab": {
     "base_uri": "https://localhost:8080/"
    },
    "executionInfo": {
     "elapsed": 10,
     "status": "ok",
     "timestamp": 1648288418333,
     "user": {
      "displayName": "Ignacio Soteras",
      "photoUrl": "https://lh3.googleusercontent.com/a/default-user=s64",
      "userId": "02050793736257155229"
     },
     "user_tz": -60
    },
    "id": "Kc2WKWNZb-nG",
    "outputId": "36b6a4e6-d6ba-4913-ead4-019eb54110b4"
   },
   "outputs": [],
   "source": [
    "categorical.shape"
   ]
  },
  {
   "cell_type": "markdown",
   "metadata": {
    "id": "s3_M5nPHgulj"
   },
   "source": [
    "# Working with numerical columns "
   ]
  },
  {
   "cell_type": "code",
   "execution_count": null,
   "metadata": {
    "colab": {
     "base_uri": "https://localhost:8080/",
     "height": 270
    },
    "executionInfo": {
     "elapsed": 916,
     "status": "ok",
     "timestamp": 1648288419242,
     "user": {
      "displayName": "Ignacio Soteras",
      "photoUrl": "https://lh3.googleusercontent.com/a/default-user=s64",
      "userId": "02050793736257155229"
     },
     "user_tz": -60
    },
    "id": "UX2paZWRgulj",
    "outputId": "82c2d6f3-39a9-47d4-ff6f-6116e26d19d7"
   },
   "outputs": [],
   "source": [
    "numerical.head()"
   ]
  },
  {
   "cell_type": "code",
   "execution_count": null,
   "metadata": {
    "colab": {
     "base_uri": "https://localhost:8080/"
    },
    "executionInfo": {
     "elapsed": 15,
     "status": "ok",
     "timestamp": 1648288419243,
     "user": {
      "displayName": "Ignacio Soteras",
      "photoUrl": "https://lh3.googleusercontent.com/a/default-user=s64",
      "userId": "02050793736257155229"
     },
     "user_tz": -60
    },
    "id": "l0EgXvhHgulj",
    "outputId": "253637c0-2821-43ae-bc82-bc7330f2a07b"
   },
   "outputs": [],
   "source": [
    "numerical.shape"
   ]
  },
  {
   "cell_type": "code",
   "execution_count": null,
   "metadata": {
    "colab": {
     "base_uri": "https://localhost:8080/",
     "height": 423
    },
    "executionInfo": {
     "elapsed": 10,
     "status": "ok",
     "timestamp": 1648288419244,
     "user": {
      "displayName": "Ignacio Soteras",
      "photoUrl": "https://lh3.googleusercontent.com/a/default-user=s64",
      "userId": "02050793736257155229"
     },
     "user_tz": -60
    },
    "id": "GqnXMGfJgulj",
    "outputId": "19eddc3d-54a9-4f78-b463-7b039373ced4"
   },
   "outputs": [],
   "source": [
    "df = pd.DataFrame(numerical.isna().sum()).reset_index()\n",
    "df.columns = ['column_name', 'nulls']\n",
    "df[df['nulls']>0]"
   ]
  },
  {
   "cell_type": "markdown",
   "metadata": {
    "id": "97n9ff6QDV9D"
   },
   "source": [
    "### Activity 2.2.2"
   ]
  },
  {
   "cell_type": "markdown",
   "metadata": {
    "id": "USwHgSGtcQhE"
   },
   "source": [
    "Determine wich numerical columns have a percentage of NA's above 25%."
   ]
  },
  {
   "cell_type": "code",
   "execution_count": null,
   "metadata": {
    "id": "047dDKdLgulk"
   },
   "outputs": [],
   "source": [
    "# Your code here\n",
    "def threshold(df, threshold ):\n",
    "    nulls_percent_df = pd.DataFrame(numerical.isna().sum()/len(numerical)).reset_index()\n",
    "    nulls_percent_df.columns = ['column_name', 'nulls_percentage']\n",
    "    columns_above_threshold = nulls_percent_df[nulls_percent_df['nulls_percentage']>threshold]\n",
    "    return list(columns_above_threshold['column_name'])"
   ]
  },
  {
   "cell_type": "code",
   "execution_count": null,
   "metadata": {},
   "outputs": [],
   "source": [
    "len(threshold(numerical, 0.25))"
   ]
  },
  {
   "cell_type": "code",
   "execution_count": null,
   "metadata": {},
   "outputs": [],
   "source": [
    "np.mean(numerical[numerical['AGE'].notna()]['AGE'])"
   ]
  },
  {
   "cell_type": "markdown",
   "metadata": {
    "id": "GW40M2PMDcAf"
   },
   "source": [
    "### Filling NULL values with plots"
   ]
  },
  {
   "cell_type": "code",
   "execution_count": null,
   "metadata": {
    "colab": {
     "base_uri": "https://localhost:8080/",
     "height": 311
    },
    "executionInfo": {
     "elapsed": 2514,
     "status": "ok",
     "timestamp": 1648288422358,
     "user": {
      "displayName": "Ignacio Soteras",
      "photoUrl": "https://lh3.googleusercontent.com/a/default-user=s64",
      "userId": "02050793736257155229"
     },
     "user_tz": -60
    },
    "id": "AOLfK9AJgulk",
    "outputId": "1d047592-49ba-4c6d-cf8f-e34283bd9828"
   },
   "outputs": [],
   "source": [
    "#numerical['AGE'] = numerical[\"AGE\"].fillna(np.mean(numerical['AGE']))\n",
    "fig, ax = plt.subplots(1,3,figsize=(16,5))\n",
    "sns.histplot(numerical['AGE'], ax = ax[0])\n",
    "sns.histplot(numerical[\"AGE\"].fillna(np.mean(numerical['AGE'])), ax = ax[1])\n",
    "sns.histplot(numerical['AGE'].fillna(np.median(numerical['AGE'])),ax = ax[2])\n",
    "plt.show()\n",
    "#probably would be a bit better to use the median here to impute\n",
    "numerical['AGE'] = numerical[\"AGE\"].fillna(np.median(numerical['AGE']))"
   ]
  },
  {
   "cell_type": "code",
   "execution_count": null,
   "metadata": {
    "colab": {
     "base_uri": "https://localhost:8080/",
     "height": 280
    },
    "executionInfo": {
     "elapsed": 1225,
     "status": "ok",
     "timestamp": 1648288423570,
     "user": {
      "displayName": "Ignacio Soteras",
      "photoUrl": "https://lh3.googleusercontent.com/a/default-user=s64",
      "userId": "02050793736257155229"
     },
     "user_tz": -60
    },
    "id": "i6g5PwINgull",
    "outputId": "365b8399-a8dc-48c0-ac32-0ec67f193046"
   },
   "outputs": [],
   "source": [
    "#sns.distplot(numerical['INCOME'])  # this will not work as there are NaNs in the column\n",
    "sns.histplot(numerical[numerical['INCOME'].notna()]['INCOME']) \n",
    "plt.show()"
   ]
  },
  {
   "cell_type": "code",
   "execution_count": null,
   "metadata": {
    "colab": {
     "base_uri": "https://localhost:8080/"
    },
    "executionInfo": {
     "elapsed": 12,
     "status": "ok",
     "timestamp": 1648288423572,
     "user": {
      "displayName": "Ignacio Soteras",
      "photoUrl": "https://lh3.googleusercontent.com/a/default-user=s64",
      "userId": "02050793736257155229"
     },
     "user_tz": -60
    },
    "id": "RTizEfmEgull",
    "outputId": "6bbb77ed-3561-4a65-e43d-88ea5676e678"
   },
   "outputs": [],
   "source": [
    "# looks like the variable is actually categorical. We can verify it by using value_counts()\n",
    "print(numerical['INCOME'].value_counts())\n",
    "numerical['INCOME'] = numerical['INCOME'].astype('object')"
   ]
  },
  {
   "cell_type": "code",
   "execution_count": null,
   "metadata": {
    "id": "qABaSC2cgull"
   },
   "outputs": [],
   "source": [
    "m = numerical['INCOME'].mode()[0]\n",
    "numerical['INCOME'] = numerical['INCOME'].fillna(m) # Replacing the null values with the most represented categoty"
   ]
  },
  {
   "cell_type": "code",
   "execution_count": null,
   "metadata": {
    "colab": {
     "base_uri": "https://localhost:8080/",
     "height": 279
    },
    "executionInfo": {
     "elapsed": 2701,
     "status": "ok",
     "timestamp": 1648288426266,
     "user": {
      "displayName": "Ignacio Soteras",
      "photoUrl": "https://lh3.googleusercontent.com/a/default-user=s64",
      "userId": "02050793736257155229"
     },
     "user_tz": -60
    },
    "id": "1W3vqJD8gulo",
    "outputId": "cc928ff0-6da9-4dce-b2a1-a7f42b740969"
   },
   "outputs": [],
   "source": [
    "sns.histplot(numerical[numerical['CLUSTER2'].isna()==False]['CLUSTER2'],kde=True) \n",
    "plt.show()"
   ]
  },
  {
   "cell_type": "code",
   "execution_count": null,
   "metadata": {
    "id": "U2ZyvFH8gulo"
   },
   "outputs": [],
   "source": [
    "numerical['CLUSTER2'] = numerical['CLUSTER2'].fillna(np.ceil(np.mean(numerical['CLUSTER2'])))"
   ]
  },
  {
   "cell_type": "markdown",
   "metadata": {
    "id": "r9IW4z4LFI2E"
   },
   "source": [
    "###Activity 2.3"
   ]
  },
  {
   "cell_type": "markdown",
   "metadata": {
    "id": "jLSElw0ojeTf"
   },
   "source": [
    "Drop all the numerical columns containing \"ADATE_. We are assuming that the date when the previous mail was done is not significant in the respondents decision to give donation."
   ]
  },
  {
   "cell_type": "code",
   "execution_count": null,
   "metadata": {
    "id": "dVuXF_V0FOxv"
   },
   "outputs": [],
   "source": [
    "# Your code here. Try to use list comprehension\n",
    "drop_columns_list = [col for col in numerical.columns if (\"ADATE_\" in col)]\n",
    "drop_columns_list"
   ]
  },
  {
   "cell_type": "code",
   "execution_count": null,
   "metadata": {
    "id": "cDIMOE_-FWSM"
   },
   "outputs": [],
   "source": [
    "# Drop the columns\n",
    "numerical.drop(drop_columns_list, axis =1)\n"
   ]
  },
  {
   "cell_type": "markdown",
   "metadata": {
    "id": "scCH-gQdF10d"
   },
   "source": [
    "#Lab 2"
   ]
  },
  {
   "cell_type": "markdown",
   "metadata": {
    "id": "fs6KGKB7mQAk"
   },
   "source": [
    "Lab instructions can be found [here](https://github.com/ironhack-labs/lab-feature-engineering)"
   ]
  },
  {
   "cell_type": "markdown",
   "metadata": {
    "id": "CF5TiOp9md5R"
   },
   "source": [
    "## Check for null values in the numerical columns."
   ]
  },
  {
   "cell_type": "code",
   "execution_count": null,
   "metadata": {},
   "outputs": [],
   "source": [
    "numerical.isna().sum().sort_values().tail(20)"
   ]
  },
  {
   "cell_type": "markdown",
   "metadata": {},
   "source": [
    "## Use appropriate methods to clean the columns GEOCODE2, WEALTH1, ADI, DMA,and MSA."
   ]
  },
  {
   "cell_type": "markdown",
   "metadata": {},
   "source": [
    "## GEOCODE2"
   ]
  },
  {
   "cell_type": "code",
   "execution_count": null,
   "metadata": {},
   "outputs": [],
   "source": [
    "data['GEOCODE2'].isna().sum()"
   ]
  },
  {
   "cell_type": "code",
   "execution_count": null,
   "metadata": {},
   "outputs": [],
   "source": [
    "fig, ax = plt.subplots(1,figsize=(16,5))\n",
    "sns.histplot(data['GEOCODE2'])\n",
    "plt.show()"
   ]
  },
  {
   "cell_type": "code",
   "execution_count": null,
   "metadata": {},
   "outputs": [],
   "source": [
    "### We can split up the 319 missing values by KNN methods, but because it is a neglecting number compare to the 95000 rows, lets drop it.\n",
    "drop_columns_list +=['GEOCODE2']"
   ]
  },
  {
   "cell_type": "markdown",
   "metadata": {},
   "source": [
    "## WEALTH1"
   ]
  },
  {
   "cell_type": "code",
   "execution_count": null,
   "metadata": {},
   "outputs": [],
   "source": [
    "numerical['WEALTH1'].isna().sum()"
   ]
  },
  {
   "cell_type": "code",
   "execution_count": null,
   "metadata": {},
   "outputs": [],
   "source": [
    "np.mean(numerical[\"WEALTH1\"])"
   ]
  },
  {
   "cell_type": "code",
   "execution_count": null,
   "metadata": {},
   "outputs": [],
   "source": [
    "fig, ax = plt.subplots(1,2,figsize=(16,5))\n",
    "sns.histplot(numerical['WEALTH1'], ax = ax[0])\n",
    "sns.histplot(numerical['WEALTH1'].fillna(np.mean(numerical['WEALTH1'])),ax = ax[1])\n",
    "plt.show()"
   ]
  },
  {
   "cell_type": "markdown",
   "metadata": {},
   "source": [
    "## KNN Model"
   ]
  },
  {
   "cell_type": "code",
   "execution_count": null,
   "metadata": {},
   "outputs": [],
   "source": [
    "from sklearn.impute import KNNImputer"
   ]
  },
  {
   "cell_type": "code",
   "execution_count": null,
   "metadata": {},
   "outputs": [],
   "source": [
    "numerical[[\"WEALTH1\", \"INCOME\"]]"
   ]
  },
  {
   "cell_type": "code",
   "execution_count": null,
   "metadata": {},
   "outputs": [],
   "source": [
    "imputer = KNNImputer(n_neighbors=3)\n",
    "X = imputer.fit_transform(numerical[[\"WEALTH1\", \"INCOME\", 'ADI', 'DMA']])"
   ]
  },
  {
   "cell_type": "code",
   "execution_count": null,
   "metadata": {},
   "outputs": [],
   "source": [
    "numerical2 = pd.DataFrame(X)\n",
    "numerical2.columns = [\"WEALTH1\", \"INCOME\", 'ADI', 'DMA']"
   ]
  },
  {
   "cell_type": "code",
   "execution_count": null,
   "metadata": {},
   "outputs": [],
   "source": [
    "numerical2 = numerical2.astype(int)"
   ]
  },
  {
   "cell_type": "code",
   "execution_count": null,
   "metadata": {},
   "outputs": [],
   "source": [
    "fig, ax = plt.subplots(1,2,figsize=(16,5))\n",
    "sns.histplot(numerical2['WEALTH1'], ax = ax[0])\n",
    "sns.histplot(numerical2['WEALTH1'].fillna(np.mean(numerical2['WEALTH1'])),ax = ax[1])\n",
    "plt.show()"
   ]
  },
  {
   "cell_type": "markdown",
   "metadata": {},
   "source": [
    "#### all missing values for Wealth1 is spread out in the previous interger values thanks to KNN smother distribution\n",
    "#### We add 41 000 missing value out of 92 000, so we couldn't erase them or just decide to convert them to the mean, median or mode : the distribution was nonsense"
   ]
  },
  {
   "cell_type": "markdown",
   "metadata": {},
   "source": [
    "## ADI"
   ]
  },
  {
   "cell_type": "code",
   "execution_count": null,
   "metadata": {},
   "outputs": [],
   "source": [
    "numerical['ADI'].isna().sum()"
   ]
  },
  {
   "cell_type": "code",
   "execution_count": null,
   "metadata": {},
   "outputs": [],
   "source": [
    "fig, ax = plt.subplots(1,2,figsize=(16,5))\n",
    "sns.histplot(numerical['ADI'], ax = ax[0])\n",
    "sns.histplot(numerical['ADI'].fillna(np.median(numerical['ADI'])),ax = ax[1])\n",
    "plt.show()"
   ]
  },
  {
   "cell_type": "code",
   "execution_count": null,
   "metadata": {},
   "outputs": [],
   "source": [
    "### We can split up the 319 missing values by KNN methods, but because it is a neglecting number compare to the 95000 rows, there is no risk to give the median as value.\n",
    "numerical[\"ADI\"].fillna(np.median(numerical['ADI']))"
   ]
  },
  {
   "cell_type": "markdown",
   "metadata": {},
   "source": [
    "## DMA"
   ]
  },
  {
   "cell_type": "code",
   "execution_count": null,
   "metadata": {},
   "outputs": [],
   "source": [
    "numerical['DMA'].isna().sum()"
   ]
  },
  {
   "cell_type": "code",
   "execution_count": null,
   "metadata": {},
   "outputs": [],
   "source": [
    "fig, ax = plt.subplots(1,2,figsize=(16,5))\n",
    "sns.histplot(numerical['DMA'], ax = ax[0])\n",
    "sns.histplot(numerical[\"DMA\"].fillna(np.median(numerical['DMA'])), ax = ax[1])\n",
    "plt.show()"
   ]
  },
  {
   "cell_type": "code",
   "execution_count": null,
   "metadata": {},
   "outputs": [],
   "source": [
    "### We can split up the 319 missing values by KNN methods, but because it is a neglecting number compare to the 95000 rows, there is no risk to give the median as value.\n",
    "numerical[\"DMA\"].fillna(np.median(numerical['DMA']))"
   ]
  },
  {
   "cell_type": "markdown",
   "metadata": {},
   "source": [
    "## MSA"
   ]
  },
  {
   "cell_type": "code",
   "execution_count": null,
   "metadata": {
    "id": "-L0sL3Jpm1UA"
   },
   "outputs": [],
   "source": [
    "numerical['MSA'].isna().sum()\n"
   ]
  },
  {
   "cell_type": "code",
   "execution_count": null,
   "metadata": {},
   "outputs": [],
   "source": [
    "fig, ax = plt.subplots(1,2,figsize=(16,5))\n",
    "sns.histplot(numerical['MSA'], ax = ax[0])\n",
    "sns.histplot(numerical['MSA'].fillna(np.median(numerical['MSA'])),ax = ax[1])\n",
    "plt.show()"
   ]
  },
  {
   "cell_type": "code",
   "execution_count": null,
   "metadata": {},
   "outputs": [],
   "source": [
    "### We can split up the 319 missing values by KNN methods, but because it is a neglecting number compare to the 95000 rows, there is no risk to give the median as value.\n",
    "numerical[\"MSA\"].fillna(np.median(numerical['MSA']))"
   ]
  },
  {
   "cell_type": "code",
   "execution_count": null,
   "metadata": {
    "id": "EndfH_gsoK94"
   },
   "outputs": [],
   "source": [
    "# Use appropriate methods to clean the columns \n",
    "# categorical: GEOCODE2 (drop rows with NA's)\n",
    "# numerical: WEALTH1 (drop rows with NA's), ADI, DMA,and MSA.\n",
    "# Drop rows for which 'GEOCODE2' has an NA"
   ]
  },
  {
   "cell_type": "code",
   "execution_count": null,
   "metadata": {
    "id": "UrNezjOLq5RS"
   },
   "outputs": [],
   "source": [
    "# ml = numerical[numerical['WEALTH1'].notna()].index.tolist()\n",
    "# numerical = numerical.loc[ml,:]\n",
    "# categorical = categorical.loc[ml,:]"
   ]
  },
  {
   "cell_type": "markdown",
   "metadata": {
    "id": "rqO5sK2WFbsO"
   },
   "source": [
    "#Wrapping up"
   ]
  },
  {
   "cell_type": "code",
   "execution_count": null,
   "metadata": {
    "id": "byuE9jXcHG75"
   },
   "outputs": [],
   "source": [
    "num_columns_to_drop = [col for col in drop_columns_list if col in list(numerical.columns)]\n",
    "#num_columns_to_drop\n",
    "numerical = numerical.drop(columns=num_columns_to_drop, axis = 1)"
   ]
  },
  {
   "cell_type": "code",
   "execution_count": null,
   "metadata": {
    "colab": {
     "base_uri": "https://localhost:8080/",
     "height": 174
    },
    "executionInfo": {
     "elapsed": 233,
     "status": "ok",
     "timestamp": 1648288573887,
     "user": {
      "displayName": "Ignacio Soteras",
      "photoUrl": "https://lh3.googleusercontent.com/a/default-user=s64",
      "userId": "02050793736257155229"
     },
     "user_tz": -60
    },
    "id": "RYrkXVWTgulp",
    "outputId": "48443625-0a79-4961-fb20-f59eb4644ee5"
   },
   "outputs": [],
   "source": [
    "df = pd.DataFrame(numerical.isna().sum()).reset_index()\n",
    "df.columns = ['column_name', 'nulls']\n",
    "df[df['nulls']>0]"
   ]
  },
  {
   "cell_type": "code",
   "execution_count": null,
   "metadata": {
    "id": "gsyS_PAygulp"
   },
   "outputs": [],
   "source": [
    "numerical.to_csv('C:/Users/igrav/Desktop/ironhack/Lecture/Week_7/Day1/AM/numerical7_02.csv')\n",
    "categorical.to_csv('C:/Users/igrav/Desktop/ironhack/Lecture/Week_7/Day1/AM/categorical7_02.csv')"
   ]
  },
  {
   "cell_type": "code",
   "execution_count": null,
   "metadata": {
    "id": "t5_MmpGngulp"
   },
   "outputs": [],
   "source": [
    "Y.to_csv('C:/Users/igrav/Desktop/ironhack/Lecture/Week_7/Day1/AM/target7_02.csv')"
   ]
  },
  {
   "cell_type": "markdown",
   "metadata": {
    "id": "xC-gCRj3qWqu"
   },
   "source": [
    "Pandas can also use pickles. "
   ]
  },
  {
   "cell_type": "code",
   "execution_count": null,
   "metadata": {
    "id": "YvFKZFj5gulp"
   },
   "outputs": [],
   "source": [
    "numerical.to_pickle('C:/Users/igrav/Desktop/ironhack/Lecture/Week_7/Day1/AM/numerical7_02.pkl')\n",
    "categorical.to_pickle('C:/Users/igrav/Desktop/ironhack/Lecture/Week_7/Day1/AM/categorical7_02.pkl')\n",
    "Y.to_pickle('C:/Users/igrav/Desktop/ironhack/Lecture/Week_7/Day1/AM/target7.02.pkl')"
   ]
  }
 ],
 "metadata": {
  "colab": {
   "collapsed_sections": [],
   "name": "L. 7.01 7.02_students.ipynb",
   "provenance": [],
   "toc_visible": true
  },
  "kernelspec": {
   "display_name": "Python 3 (ipykernel)",
   "language": "python",
   "name": "python3"
  },
  "language_info": {
   "codemirror_mode": {
    "name": "ipython",
    "version": 3
   },
   "file_extension": ".py",
   "mimetype": "text/x-python",
   "name": "python",
   "nbconvert_exporter": "python",
   "pygments_lexer": "ipython3",
   "version": "3.9.7"
  }
 },
 "nbformat": 4,
 "nbformat_minor": 1
}
